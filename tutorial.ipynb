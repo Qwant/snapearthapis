{
  "cells": [
    {
      "cell_type": "markdown",
      "source": [
        "# Tutorial configuration"
      ],
      "metadata": {
        "id": "vkyj_-xt071x"
      },
      "id": "vkyj_-xt071x"
    },
    {
      "cell_type": "code",
      "execution_count": 2,
      "id": "169ab114",
      "metadata": {
        "lines_to_next_cell": 2,
        "id": "169ab114",
        "outputId": "77671b99-6690-4f1d-cbfb-6979e5bf79f4",
        "colab": {
          "base_uri": "https://localhost:8080/"
        }
      },
      "outputs": [
        {
          "output_type": "stream",
          "name": "stdout",
          "text": [
            "Cloning into 'snapearthapis'...\n",
            "remote: Enumerating objects: 163, done.\u001b[K\n",
            "remote: Counting objects: 100% (163/163), done.\u001b[K\n",
            "remote: Compressing objects: 100% (92/92), done.\u001b[K\n",
            "remote: Total 163 (delta 62), reused 144 (delta 43), pack-reused 0\u001b[K\n",
            "Receiving objects: 100% (163/163), 39.31 KiB | 258.00 KiB/s, done.\n",
            "Resolving deltas: 100% (62/62), done.\n",
            "Requirement already satisfied: affine==2.3.1 in /usr/local/lib/python3.7/dist-packages (from -r snapearthapis/requirements.txt (line 7)) (2.3.1)\n",
            "Requirement already satisfied: attrs==21.4.0 in /usr/local/lib/python3.7/dist-packages (from -r snapearthapis/requirements.txt (line 9)) (21.4.0)\n",
            "Requirement already satisfied: certifi==2021.10.8 in /usr/local/lib/python3.7/dist-packages (from -r snapearthapis/requirements.txt (line 11)) (2021.10.8)\n",
            "Requirement already satisfied: click==8.1.3 in /usr/local/lib/python3.7/dist-packages (from -r snapearthapis/requirements.txt (line 13)) (8.1.3)\n",
            "Requirement already satisfied: click-plugins==1.1.1 in /usr/local/lib/python3.7/dist-packages (from -r snapearthapis/requirements.txt (line 18)) (1.1.1)\n",
            "Requirement already satisfied: cligj==0.7.2 in /usr/local/lib/python3.7/dist-packages (from -r snapearthapis/requirements.txt (line 20)) (0.7.2)\n",
            "Requirement already satisfied: folium==0.2.1 in /usr/local/lib/python3.7/dist-packages (from -r snapearthapis/requirements.txt (line 22)) (0.2.1)\n",
            "Requirement already satisfied: grpcio==1.46.0 in /usr/local/lib/python3.7/dist-packages (from -r snapearthapis/requirements.txt (line 24)) (1.46.0)\n",
            "Requirement already satisfied: grpcio-tools==1.46.0 in /usr/local/lib/python3.7/dist-packages (from -r snapearthapis/requirements.txt (line 28)) (1.46.0)\n",
            "Requirement already satisfied: grpclib==0.4.2 in /usr/local/lib/python3.7/dist-packages (from -r snapearthapis/requirements.txt (line 30)) (0.4.2)\n",
            "Requirement already satisfied: h2==4.1.0 in /usr/local/lib/python3.7/dist-packages (from -r snapearthapis/requirements.txt (line 32)) (4.1.0)\n",
            "Requirement already satisfied: hpack==4.0.0 in /usr/local/lib/python3.7/dist-packages (from -r snapearthapis/requirements.txt (line 34)) (4.0.0)\n",
            "Requirement already satisfied: hyperframe==6.0.1 in /usr/local/lib/python3.7/dist-packages (from -r snapearthapis/requirements.txt (line 36)) (6.0.1)\n",
            "Requirement already satisfied: importlib-metadata==4.11.3 in /usr/local/lib/python3.7/dist-packages (from -r snapearthapis/requirements.txt (line 38)) (4.11.3)\n",
            "Requirement already satisfied: jinja2==3.1.2 in /usr/local/lib/python3.7/dist-packages (from -r snapearthapis/requirements.txt (line 40)) (3.1.2)\n",
            "Requirement already satisfied: markupsafe==2.1.1 in /usr/local/lib/python3.7/dist-packages (from -r snapearthapis/requirements.txt (line 42)) (2.1.1)\n",
            "Requirement already satisfied: multidict==6.0.2 in /usr/local/lib/python3.7/dist-packages (from -r snapearthapis/requirements.txt (line 44)) (6.0.2)\n",
            "Requirement already satisfied: nest-asyncio==1.5.5 in /usr/local/lib/python3.7/dist-packages (from -r snapearthapis/requirements.txt (line 46)) (1.5.5)\n",
            "Requirement already satisfied: numpy==1.21.6 in /usr/local/lib/python3.7/dist-packages (from -r snapearthapis/requirements.txt (line 48)) (1.21.6)\n",
            "Requirement already satisfied: protobuf==3.20.1 in /usr/local/lib/python3.7/dist-packages (from -r snapearthapis/requirements.txt (line 52)) (3.20.1)\n",
            "Requirement already satisfied: pyparsing==3.0.8 in /usr/local/lib/python3.7/dist-packages (from -r snapearthapis/requirements.txt (line 56)) (3.0.8)\n",
            "Requirement already satisfied: rasterio==1.2.10 in /usr/local/lib/python3.7/dist-packages (from -r snapearthapis/requirements.txt (line 58)) (1.2.10)\n",
            "Requirement already satisfied: shapely==1.8.2 in /usr/local/lib/python3.7/dist-packages (from -r snapearthapis/requirements.txt (line 60)) (1.8.2)\n",
            "Requirement already satisfied: six==1.12.0 in /usr/local/lib/python3.7/dist-packages (from -r snapearthapis/requirements.txt (line 62)) (1.12.0)\n",
            "Requirement already satisfied: snuggs==1.4.7 in /usr/local/lib/python3.7/dist-packages (from -r snapearthapis/requirements.txt (line 64)) (1.4.7)\n",
            "Requirement already satisfied: typing-extensions==4.2.0 in /usr/local/lib/python3.7/dist-packages (from -r snapearthapis/requirements.txt (line 66)) (4.2.0)\n",
            "Requirement already satisfied: zipp==3.8.0 in /usr/local/lib/python3.7/dist-packages (from -r snapearthapis/requirements.txt (line 68)) (3.8.0)\n",
            "Requirement already satisfied: setuptools in /usr/local/lib/python3.7/dist-packages (from grpcio-tools==1.46.0->-r snapearthapis/requirements.txt (line 28)) (57.4.0)\n",
            "go version go1.18.1 linux/amd64\n"
          ]
        }
      ],
      "source": [
        "!rm -rf snapearthapis\n",
        "!git clone https://github.com/chicham/snapearthapis.git\n",
        "!pip install -r snapearthapis/requirements.txt\n",
        "!!add-apt-repository ppa:longsleep/golang-backports -y\n",
        "!apt-get update > /dev/null && apt-get -y install jq golang-go > /dev/null\n",
        "!go version\n",
        "!!go install github.com/fullstorydev/grpcurl/cmd/grpcurl@latest\n",
        "import os\n",
        "os.environ['PATH'] += \":/root/go/bin\""
      ]
    },
    {
      "cell_type": "markdown",
      "id": "a47877c8",
      "metadata": {
        "id": "a47877c8"
      },
      "source": [
        "# EarthSignature Tutorial\n",
        "\n",
        "## Introduction\n",
        "\n",
        "The goal of this notebook is to show how to use the EarthSignature API to download segmented Sentinel2 products. At the end of this tutorial, you will be able to query the API, understand how to filter the results when querying the API and understand what are the data returned by the API.\n",
        "\n",
        "\n",
        "## Visualize the products available"
      ]
    },
    {
      "cell_type": "code",
      "source": [
        "!pip install orjson\n",
        "import orjson as json \n",
        "lines = !grpcurl -insecure  -max-msg-sz 1073741824 earthsignature.snapearth.eu:443 snapearth.api.v1.database.DatabaseProductService.ListProductIds | jq -c -M\n",
        "products = [json.loads(line) for line in lines]"
      ],
      "metadata": {
        "id": "Em3guQFI4_HO",
        "outputId": "049b7edb-29e7-496b-d0b2-1e529a1e22ed",
        "colab": {
          "base_uri": "https://localhost:8080/"
        }
      },
      "id": "Em3guQFI4_HO",
      "execution_count": 6,
      "outputs": [
        {
          "output_type": "stream",
          "name": "stdout",
          "text": [
            "Collecting orjson\n",
            "  Downloading orjson-3.6.8-cp37-cp37m-manylinux_2_24_x86_64.whl (253 kB)\n",
            "\u001b[?25l\r\u001b[K     |█▎                              | 10 kB 19.8 MB/s eta 0:00:01\r\u001b[K     |██▋                             | 20 kB 10.1 MB/s eta 0:00:01\r\u001b[K     |███▉                            | 30 kB 7.9 MB/s eta 0:00:01\r\u001b[K     |█████▏                          | 40 kB 3.6 MB/s eta 0:00:01\r\u001b[K     |██████▌                         | 51 kB 3.6 MB/s eta 0:00:01\r\u001b[K     |███████▊                        | 61 kB 4.3 MB/s eta 0:00:01\r\u001b[K     |█████████                       | 71 kB 4.5 MB/s eta 0:00:01\r\u001b[K     |██████████▍                     | 81 kB 4.6 MB/s eta 0:00:01\r\u001b[K     |███████████▋                    | 92 kB 5.1 MB/s eta 0:00:01\r\u001b[K     |█████████████                   | 102 kB 4.2 MB/s eta 0:00:01\r\u001b[K     |██████████████▏                 | 112 kB 4.2 MB/s eta 0:00:01\r\u001b[K     |███████████████▌                | 122 kB 4.2 MB/s eta 0:00:01\r\u001b[K     |████████████████▉               | 133 kB 4.2 MB/s eta 0:00:01\r\u001b[K     |██████████████████              | 143 kB 4.2 MB/s eta 0:00:01\r\u001b[K     |███████████████████▍            | 153 kB 4.2 MB/s eta 0:00:01\r\u001b[K     |████████████████████▊           | 163 kB 4.2 MB/s eta 0:00:01\r\u001b[K     |██████████████████████          | 174 kB 4.2 MB/s eta 0:00:01\r\u001b[K     |███████████████████████▎        | 184 kB 4.2 MB/s eta 0:00:01\r\u001b[K     |████████████████████████▋       | 194 kB 4.2 MB/s eta 0:00:01\r\u001b[K     |█████████████████████████▉      | 204 kB 4.2 MB/s eta 0:00:01\r\u001b[K     |███████████████████████████▏    | 215 kB 4.2 MB/s eta 0:00:01\r\u001b[K     |████████████████████████████▍   | 225 kB 4.2 MB/s eta 0:00:01\r\u001b[K     |█████████████████████████████▊  | 235 kB 4.2 MB/s eta 0:00:01\r\u001b[K     |███████████████████████████████ | 245 kB 4.2 MB/s eta 0:00:01\r\u001b[K     |████████████████████████████████| 253 kB 4.2 MB/s \n",
            "\u001b[?25hInstalling collected packages: orjson\n",
            "Successfully installed orjson-3.6.8\n"
          ]
        },
        {
          "output_type": "execute_result",
          "data": {
            "text/plain": [
              "[{'creationDate': '2022-04-30T00:00:00Z',\n",
              "  'productId': 'S2B_MSIL1C_20220430T100019_N0400_R122_T33TXL_20220430T120209',\n",
              "  'publicationDate': '2022-04-30T00:00:00Z',\n",
              "  'wkt': 'MULTIPOLYGON (((16.2829359999999994 45.6240570000000005, 16.3153690000000005 45.7014489999999967, 16.3161799999999992 45.7033819999999977, 16.3759319999999988 45.8458579999999998, 16.4038110000000010 45.9120470000000012, 16.4374579999999995 45.9921140000000008, 16.4590020000000017 46.0433489999999992, 16.2925320000000013 46.0462649999999982, 16.2829359999999994 45.6240570000000005)))'}]"
            ]
          },
          "metadata": {},
          "execution_count": 6
        }
      ]
    },
    {
      "cell_type": "code",
      "execution_count": 11,
      "id": "1159315c",
      "metadata": {
        "lines_to_next_cell": 0,
        "id": "1159315c"
      },
      "outputs": [],
      "source": [
        "import base64\n",
        "\n",
        "import folium\n",
        "from shapely import wkt\n",
        "from shapely.geometry import mapping\n",
        "\n",
        "\n",
        "EUROPE_COORDINATES = wkt.loads(\n",
        "    \"POLYGON((-10.61 71.16, 44.85 71.16, 44.85 35.97, -10.61 35.97, -10.61 71.16))\",\n",
        ")\n",
        "MAP_CENTER = mapping(EUROPE_COORDINATES.centroid)"
      ]
    },
    {
      "cell_type": "code",
      "execution_count": 32,
      "id": "bdb9848f",
      "metadata": {
        "id": "bdb9848f",
        "outputId": "2dbd847a-c011-44f0-ede5-229a1614972b",
        "colab": {
          "base_uri": "https://localhost:8080/",
          "height": 373
        }
      },
      "outputs": [
        {
          "output_type": "error",
          "ename": "ValueError",
          "evalue": "ignored",
          "traceback": [
            "\u001b[0;31m---------------------------------------------------------------------------\u001b[0m",
            "\u001b[0;31mValueError\u001b[0m                                Traceback (most recent call last)",
            "\u001b[0;32m<ipython-input-32-654ee76fd9cf>\u001b[0m in \u001b[0;36m<module>\u001b[0;34m()\u001b[0m\n\u001b[1;32m      9\u001b[0m \u001b[0;32mfor\u001b[0m \u001b[0mproduct\u001b[0m \u001b[0;32min\u001b[0m \u001b[0mproducts\u001b[0m\u001b[0;34m:\u001b[0m\u001b[0;34m\u001b[0m\u001b[0;34m\u001b[0m\u001b[0m\n\u001b[1;32m     10\u001b[0m     \u001b[0mgeom\u001b[0m \u001b[0;34m=\u001b[0m \u001b[0mwkt\u001b[0m\u001b[0;34m.\u001b[0m\u001b[0mloads\u001b[0m\u001b[0;34m(\u001b[0m\u001b[0mproduct\u001b[0m\u001b[0;34m[\u001b[0m\u001b[0;34m'wkt'\u001b[0m\u001b[0;34m]\u001b[0m\u001b[0;34m)\u001b[0m\u001b[0;34m\u001b[0m\u001b[0;34m\u001b[0m\u001b[0m\n\u001b[0;32m---> 11\u001b[0;31m     \u001b[0mfolium\u001b[0m\u001b[0;34m.\u001b[0m\u001b[0mGeoJson\u001b[0m\u001b[0;34m(\u001b[0m\u001b[0mdata\u001b[0m\u001b[0;34m=\u001b[0m\u001b[0mgeom\u001b[0m\u001b[0;34m)\u001b[0m\u001b[0;34m.\u001b[0m\u001b[0madd_to\u001b[0m\u001b[0;34m(\u001b[0m\u001b[0mmap_\u001b[0m\u001b[0;34m)\u001b[0m\u001b[0;34m\u001b[0m\u001b[0;34m\u001b[0m\u001b[0m\n\u001b[0m\u001b[1;32m     12\u001b[0m     \u001b[0mcentroid\u001b[0m \u001b[0;34m=\u001b[0m \u001b[0mmapping\u001b[0m\u001b[0;34m(\u001b[0m\u001b[0mgeom\u001b[0m\u001b[0;34m.\u001b[0m\u001b[0mcentroid\u001b[0m\u001b[0;34m)\u001b[0m\u001b[0;34m\u001b[0m\u001b[0;34m\u001b[0m\u001b[0m\n\u001b[1;32m     13\u001b[0m     folium.Marker(\n",
            "\u001b[0;32m/usr/local/lib/python3.7/dist-packages/folium/features.py\u001b[0m in \u001b[0;36m__init__\u001b[0;34m(self, data, style_function, name, overlay, control)\u001b[0m\n\u001b[1;32m    322\u001b[0m                 \u001b[0;32mraise\u001b[0m \u001b[0mValueError\u001b[0m\u001b[0;34m(\u001b[0m\u001b[0mmsg\u001b[0m\u001b[0;34m)\u001b[0m\u001b[0;34m\u001b[0m\u001b[0;34m\u001b[0m\u001b[0m\n\u001b[1;32m    323\u001b[0m         \u001b[0;32melse\u001b[0m\u001b[0;34m:\u001b[0m\u001b[0;34m\u001b[0m\u001b[0;34m\u001b[0m\u001b[0m\n\u001b[0;32m--> 324\u001b[0;31m             \u001b[0;32mraise\u001b[0m \u001b[0mValueError\u001b[0m\u001b[0;34m(\u001b[0m\u001b[0;34m'Unhandled object {!r}.'\u001b[0m\u001b[0;34m.\u001b[0m\u001b[0mformat\u001b[0m\u001b[0;34m(\u001b[0m\u001b[0mdata\u001b[0m\u001b[0;34m)\u001b[0m\u001b[0;34m)\u001b[0m\u001b[0;34m\u001b[0m\u001b[0;34m\u001b[0m\u001b[0m\n\u001b[0m\u001b[1;32m    325\u001b[0m \u001b[0;34m\u001b[0m\u001b[0m\n\u001b[1;32m    326\u001b[0m         \u001b[0;32mif\u001b[0m \u001b[0mstyle_function\u001b[0m \u001b[0;32mis\u001b[0m \u001b[0;32mNone\u001b[0m\u001b[0;34m:\u001b[0m\u001b[0;34m\u001b[0m\u001b[0;34m\u001b[0m\u001b[0m\n",
            "\u001b[0;31mValueError\u001b[0m: Unhandled object <shapely.geometry.multipolygon.MultiPolygon object at 0x7f83fa547710>."
          ]
        }
      ],
      "source": [
        "\n",
        "map_ = folium.Map(\n",
        "    location=MAP_CENTER[\"coordinates\"][::-1],\n",
        "    zoom_start=4,\n",
        "    crs=\"EPSG3857\",\n",
        ")\n",
        "\n",
        "\n",
        "for product in products:\n",
        "    geom = wkt.loads(product['wkt'])\n",
        "    folium.GeoJson(data=geom).add_to(map_)\n",
        "    centroid = mapping(geom.centroid)\n",
        "    folium.Marker(\n",
        "            location=centroid[\"coordinates\"][::-1],\n",
        "            tooltip=f'product[\"productId\"]',\n",
        "        ).add_to(map_)    \n",
        "\n",
        "map_\n"
      ]
    },
    {
      "cell_type": "code",
      "source": [
        "folium.__version__"
      ],
      "metadata": {
        "id": "ijk4fKb0A3px",
        "outputId": "28c64723-e861-4643-e355-7553fe8ec0b5",
        "colab": {
          "base_uri": "https://localhost:8080/",
          "height": 35
        }
      },
      "id": "ijk4fKb0A3px",
      "execution_count": 33,
      "outputs": [
        {
          "output_type": "execute_result",
          "data": {
            "text/plain": [
              "'0.2.1'"
            ],
            "application/vnd.google.colaboratory.intrinsic+json": {
              "type": "string"
            }
          },
          "metadata": {},
          "execution_count": 33
        }
      ]
    },
    {
      "cell_type": "markdown",
      "id": "d84ff524",
      "metadata": {
        "id": "d84ff524"
      },
      "source": [
        "## Query the API\n",
        "\n",
        "drive.mount(\"/content/drive\")\n",
        "\n",
        "with grpc.insecure_channel(f\"{host}\", options) as channel:\n",
        "    stub = database_pb2_grpc.DatabaseProductServiceStub(channel)\n",
        "    request = database_pb2.ListSegmentationRequest()\n",
        "    responses = stub.ListSegmentationRequest(request)\n",
        "    # Write one directory per product\n",
        "    # Write cloud_mask and segmentation"
      ]
    }
  ],
  "metadata": {
    "jupytext": {
      "cell_metadata_filter": "-all",
      "formats": "ipynb,py:percent"
    },
    "kernelspec": {
      "display_name": "Python 3 (ipykernel)",
      "language": "python",
      "name": "python3"
    },
    "language_info": {
      "codemirror_mode": {
        "name": "ipython",
        "version": 3
      },
      "file_extension": ".py",
      "mimetype": "text/x-python",
      "name": "python",
      "nbconvert_exporter": "python",
      "pygments_lexer": "ipython3",
      "version": "3.8.13"
    },
    "colab": {
      "name": "tutorial.ipynb",
      "provenance": []
    }
  },
  "nbformat": 4,
  "nbformat_minor": 5
}