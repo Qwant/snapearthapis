{
 "cells": [
  {
   "cell_type": "markdown",
   "id": "a47877c8",
   "metadata": {},
   "source": [
    "# EarthSignature Tutorial\n",
    "\n",
    "## Introduction\n",
    "\n",
    "The goal of this notebook is to show how to use the EarthSignature API to download segmented Sentinel2 products. At the end of this tutorial, you will be able to query the API, understand how to filter the results when querying the API and understand what are the data returned by the API.\n",
    "\n",
    "\n",
    "## Visualize the products available"
   ]
  },
  {
   "cell_type": "code",
   "execution_count": null,
   "id": "1159315c",
   "metadata": {},
   "outputs": [],
   "source": [
    "import sys\n",
    "\n",
    "sys.path.append(\"./gen/python\")\n",
    "\n",
    "import grpc\n",
    "import folium\n",
    "from shapely import wkt\n",
    "from shapely.geometry import mapping\n",
    "from snapearth.api.v1 import database_pb2_grpc, database_pb2\n",
    "from google.colab import drive\n",
    "import base64\n",
    "\n",
    "EUROPE_COORDINATES = wkt.loads(\n",
    "    \"POLYGON((-10.61 71.16, 44.85 71.16, 44.85 35.97, -10.61 35.97, -10.61 71.16))\",\n",
    ")\n",
    "MAP_CENTER = mapping(EUROPE_COORDINATES.centroid)"
   ]
  },
  {
   "cell_type": "code",
   "execution_count": null,
   "id": "bdb9848f",
   "metadata": {},
   "outputs": [],
   "source": [
    "\n",
    "# host = \"earthsignature.snapearth.eu:443\"\n",
    "host = \"10.110.3.49:50051\"\n",
    "ssl = False\n",
    "options = [\n",
    "    (\"grpc.max_receive_message_length\", 2**30),\n",
    "    (\"grpc.max_send_message_length\", 2**30),\n",
    "    (\"grpc.keepalive_timeout_ms\", 60000),\n",
    "]\n",
    "\n",
    "\n",
    "map_ = folium.Map(\n",
    "    location=MAP_CENTER[\"coordinates\"][::-1],\n",
    "    zoom_start=4,\n",
    "    crs=\"EPSG3857\",\n",
    ")\n",
    "\n",
    "with grpc.insecure_channel(f\"{host}\", options) as channel:\n",
    "    stub = database_pb2_grpc.DatabaseProductServiceStub(channel)\n",
    "    request = database_pb2.ListProductIdsRequest()\n",
    "    responses = stub.ListProductIds(request)\n",
    "    for response in responses:\n",
    "        geom = wkt.loads(response.wkt)\n",
    "        folium.GeoJson(geom).add_to(map_)\n",
    "        location = mapping(geom.centroid)[\"coordinates\"][::-1]\n",
    "        folium.Marker(tooltip=f\"{response.product_id}\", location=location).add_to(\n",
    "            map_,\n",
    "        )\n",
    "map_"
   ]
  },
  {
   "cell_type": "markdown",
   "id": "d84ff524",
   "metadata": {
    "lines_to_next_cell": 2
   },
   "source": [
    "## Query the API\n",
    "\n",
    "drive.mount(\"/content/drive\")\n",
    "\n",
    "with grpc.insecure_channel(f\"{host}\", options) as channel:\n",
    "    stub = database_pb2_grpc.DatabaseProductServiceStub(channel)\n",
    "    request = database_pb2.ListSegmentationRequest()\n",
    "    responses = stub.ListSegmentationRequest(request)\n",
    "    # Write one directory per product\n",
    "    # Write cloud_mask and segmentation"
   ]
  }
 ],
 "metadata": {
  "jupytext": {
   "cell_metadata_filter": "-all",
   "formats": "ipynb,py:percent"
  },
  "kernelspec": {
   "display_name": "Python 3 (ipykernel)",
   "language": "python",
   "name": "python3"
  },
  "language_info": {
   "codemirror_mode": {
    "name": "ipython",
    "version": 3
   },
   "file_extension": ".py",
   "mimetype": "text/x-python",
   "name": "python",
   "nbconvert_exporter": "python",
   "pygments_lexer": "ipython3",
   "version": "3.8.13"
  }
 },
 "nbformat": 4,
 "nbformat_minor": 5
}
