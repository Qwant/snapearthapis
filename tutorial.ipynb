{
 "cells": [
  {
   "cell_type": "code",
   "execution_count": null,
   "id": "169ab114",
   "metadata": {
    "lines_to_next_cell": 2
   },
   "outputs": [],
   "source": [
    "!rm -rf snapearthapis\n",
    "!git clone https://github.com/chicham/snapearthapis.git\n",
    "!pip install -r snapearthapis/requirements.txt\n",
    "!apt-get -y install jq"
   ]
  },
  {
   "cell_type": "markdown",
   "id": "a47877c8",
   "metadata": {},
   "source": [
    "# EarthSignature Tutorial\n",
    "\n",
    "## Introduction\n",
    "\n",
    "The goal of this notebook is to show how to use the EarthSignature API to download segmented Sentinel2 products. At the end of this tutorial, you will be able to query the API, understand how to filter the results when querying the API and understand what are the data returned by the API.\n",
    "\n",
    "\n",
    "## Visualize the products available"
   ]
  },
  {
   "cell_type": "code",
   "execution_count": null,
   "id": "1159315c",
   "metadata": {
    "lines_to_next_cell": 0
   },
   "outputs": [],
   "source": [
    "import sys\n",
    "\n",
    "sys.path.append(\"snapearthapis/gen/python/\")\n",
    "\n",
    "import base64\n",
    "\n",
    "import folium\n",
    "from shapely import wkt\n",
    "from shapely.geometry import mapping\n",
    "\n",
    "\n",
    "EUROPE_COORDINATES = wkt.loads(\n",
    "    \"POLYGON((-10.61 71.16, 44.85 71.16, 44.85 35.97, -10.61 35.97, -10.61 71.16))\",\n",
    ")\n",
    "MAP_CENTER = mapping(EUROPE_COORDINATES.centroid)"
   ]
  },
  {
   "cell_type": "code",
   "execution_count": null,
   "id": "bdb9848f",
   "metadata": {},
   "outputs": [],
   "source": [
    "\n",
    "host = \"earthsignature.snapearth.eu:443\"\n",
    "\n",
    "map_ = folium.Map(\n",
    "    location=MAP_CENTER[\"coordinates\"][::-1],\n",
    "    zoom_start=4,\n",
    "    crs=\"EPSG3857\",\n",
    ")"
   ]
  },
  {
   "cell_type": "markdown",
   "id": "d84ff524",
   "metadata": {},
   "source": [
    "## Query the API\n",
    "\n",
    "drive.mount(\"/content/drive\")\n",
    "\n",
    "with grpc.insecure_channel(f\"{host}\", options) as channel:\n",
    "    stub = database_pb2_grpc.DatabaseProductServiceStub(channel)\n",
    "    request = database_pb2.ListSegmentationRequest()\n",
    "    responses = stub.ListSegmentationRequest(request)\n",
    "    # Write one directory per product\n",
    "    # Write cloud_mask and segmentation"
   ]
  }
 ],
 "metadata": {
  "jupytext": {
   "cell_metadata_filter": "-all",
   "formats": "ipynb,py:percent"
  },
  "kernelspec": {
   "display_name": "Python 3 (ipykernel)",
   "language": "python",
   "name": "python3"
  },
  "language_info": {
   "codemirror_mode": {
    "name": "ipython",
    "version": 3
   },
   "file_extension": ".py",
   "mimetype": "text/x-python",
   "name": "python",
   "nbconvert_exporter": "python",
   "pygments_lexer": "ipython3",
   "version": "3.8.13"
  }
 },
 "nbformat": 4,
 "nbformat_minor": 5
}
