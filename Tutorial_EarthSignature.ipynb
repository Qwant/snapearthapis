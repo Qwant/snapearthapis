{
  "cells": [
    {
      "cell_type": "markdown",
      "source": [
        "# Tutorial configuration"
      ],
      "metadata": {
        "id": "vkyj_-xt071x"
      },
      "id": "vkyj_-xt071x"
    },
    {
      "cell_type": "code",
      "execution_count": 1,
      "id": "169ab114",
      "metadata": {
        "lines_to_next_cell": 2,
        "id": "169ab114",
        "outputId": "f84666dd-67ab-4fa8-d81d-31c61b6ebd92",
        "colab": {
          "base_uri": "https://localhost:8080/"
        }
      },
      "outputs": [
        {
          "output_type": "stream",
          "name": "stdout",
          "text": [
            "Cloning into 'snapearthapis'...\n",
            "remote: Enumerating objects: 170, done.\u001b[K\n",
            "remote: Counting objects: 100% (170/170), done.\u001b[K\n",
            "remote: Compressing objects: 100% (95/95), done.\u001b[K\n",
            "remote: Total 170 (delta 65), reused 151 (delta 46), pack-reused 0\u001b[K\n",
            "Receiving objects: 100% (170/170), 43.91 KiB | 788.00 KiB/s, done.\n",
            "Resolving deltas: 100% (65/65), done.\n",
            "Collecting affine==2.3.1\n",
            "  Downloading affine-2.3.1-py2.py3-none-any.whl (16 kB)\n",
            "Requirement already satisfied: attrs==21.4.0 in /usr/local/lib/python3.7/dist-packages (from -r snapearthapis/requirements.txt (line 9)) (21.4.0)\n",
            "Requirement already satisfied: branca==0.5.0 in /usr/local/lib/python3.7/dist-packages (from -r snapearthapis/requirements.txt (line 11)) (0.5.0)\n",
            "Requirement already satisfied: certifi==2021.10.8 in /usr/local/lib/python3.7/dist-packages (from -r snapearthapis/requirements.txt (line 13)) (2021.10.8)\n",
            "Requirement already satisfied: charset-normalizer==2.0.12 in /usr/local/lib/python3.7/dist-packages (from -r snapearthapis/requirements.txt (line 17)) (2.0.12)\n",
            "Collecting click==8.1.3\n",
            "  Downloading click-8.1.3-py3-none-any.whl (96 kB)\n",
            "\u001b[K     |████████████████████████████████| 96 kB 2.4 MB/s \n",
            "\u001b[?25hCollecting click-plugins==1.1.1\n",
            "  Downloading click_plugins-1.1.1-py2.py3-none-any.whl (7.5 kB)\n",
            "Collecting cligj==0.7.2\n",
            "  Downloading cligj-0.7.2-py3-none-any.whl (7.1 kB)\n",
            "Collecting folium==0.12.1.post1\n",
            "  Downloading folium-0.12.1.post1-py2.py3-none-any.whl (95 kB)\n",
            "\u001b[K     |████████████████████████████████| 95 kB 1.7 MB/s \n",
            "\u001b[?25hCollecting idna==3.3\n",
            "  Downloading idna-3.3-py3-none-any.whl (61 kB)\n",
            "\u001b[K     |████████████████████████████████| 61 kB 3.5 MB/s \n",
            "\u001b[?25hRequirement already satisfied: importlib-metadata==4.11.3 in /usr/local/lib/python3.7/dist-packages (from -r snapearthapis/requirements.txt (line 32)) (4.11.3)\n",
            "Collecting jinja2==3.1.2\n",
            "  Downloading Jinja2-3.1.2-py3-none-any.whl (133 kB)\n",
            "\u001b[K     |████████████████████████████████| 133 kB 37.6 MB/s \n",
            "\u001b[?25hCollecting markupsafe==2.1.1\n",
            "  Downloading MarkupSafe-2.1.1-cp37-cp37m-manylinux_2_17_x86_64.manylinux2014_x86_64.whl (25 kB)\n",
            "Requirement already satisfied: numpy==1.21.6 in /usr/local/lib/python3.7/dist-packages (from -r snapearthapis/requirements.txt (line 40)) (1.21.6)\n",
            "Collecting orjson==3.6.8\n",
            "  Downloading orjson-3.6.8-cp37-cp37m-manylinux_2_24_x86_64.whl (253 kB)\n",
            "\u001b[K     |████████████████████████████████| 253 kB 38.1 MB/s \n",
            "\u001b[?25hRequirement already satisfied: pyparsing==3.0.8 in /usr/local/lib/python3.7/dist-packages (from -r snapearthapis/requirements.txt (line 47)) (3.0.8)\n",
            "Collecting rasterio==1.2.10\n",
            "  Downloading rasterio-1.2.10-cp37-cp37m-manylinux1_x86_64.whl (19.3 MB)\n",
            "\u001b[K     |████████████████████████████████| 19.3 MB 72.6 MB/s \n",
            "\u001b[?25hCollecting requests==2.27.1\n",
            "  Downloading requests-2.27.1-py2.py3-none-any.whl (63 kB)\n",
            "\u001b[K     |████████████████████████████████| 63 kB 1.6 MB/s \n",
            "\u001b[?25hCollecting shapely==1.8.2\n",
            "  Downloading Shapely-1.8.2-cp37-cp37m-manylinux_2_12_x86_64.manylinux2010_x86_64.whl (2.0 MB)\n",
            "\u001b[K     |████████████████████████████████| 2.0 MB 37.6 MB/s \n",
            "\u001b[?25hCollecting snuggs==1.4.7\n",
            "  Downloading snuggs-1.4.7-py3-none-any.whl (5.4 kB)\n",
            "Requirement already satisfied: typing-extensions==4.2.0 in /usr/local/lib/python3.7/dist-packages (from -r snapearthapis/requirements.txt (line 57)) (4.2.0)\n",
            "Collecting urllib3==1.26.9\n",
            "  Downloading urllib3-1.26.9-py2.py3-none-any.whl (138 kB)\n",
            "\u001b[K     |████████████████████████████████| 138 kB 59.0 MB/s \n",
            "\u001b[?25hRequirement already satisfied: zipp==3.8.0 in /usr/local/lib/python3.7/dist-packages (from -r snapearthapis/requirements.txt (line 61)) (3.8.0)\n",
            "Requirement already satisfied: setuptools in /usr/local/lib/python3.7/dist-packages (from rasterio==1.2.10->-r snapearthapis/requirements.txt (line 49)) (57.4.0)\n",
            "Installing collected packages: markupsafe, urllib3, jinja2, idna, click, snuggs, requests, cligj, click-plugins, affine, shapely, rasterio, orjson, folium\n",
            "  Attempting uninstall: markupsafe\n",
            "    Found existing installation: MarkupSafe 2.0.1\n",
            "    Uninstalling MarkupSafe-2.0.1:\n",
            "      Successfully uninstalled MarkupSafe-2.0.1\n",
            "  Attempting uninstall: urllib3\n",
            "    Found existing installation: urllib3 1.24.3\n",
            "    Uninstalling urllib3-1.24.3:\n",
            "      Successfully uninstalled urllib3-1.24.3\n",
            "  Attempting uninstall: jinja2\n",
            "    Found existing installation: Jinja2 2.11.3\n",
            "    Uninstalling Jinja2-2.11.3:\n",
            "      Successfully uninstalled Jinja2-2.11.3\n",
            "  Attempting uninstall: idna\n",
            "    Found existing installation: idna 2.10\n",
            "    Uninstalling idna-2.10:\n",
            "      Successfully uninstalled idna-2.10\n",
            "  Attempting uninstall: click\n",
            "    Found existing installation: click 7.1.2\n",
            "    Uninstalling click-7.1.2:\n",
            "      Successfully uninstalled click-7.1.2\n",
            "  Attempting uninstall: requests\n",
            "    Found existing installation: requests 2.23.0\n",
            "    Uninstalling requests-2.23.0:\n",
            "      Successfully uninstalled requests-2.23.0\n",
            "  Attempting uninstall: shapely\n",
            "    Found existing installation: Shapely 1.8.1.post1\n",
            "    Uninstalling Shapely-1.8.1.post1:\n",
            "      Successfully uninstalled Shapely-1.8.1.post1\n",
            "  Attempting uninstall: folium\n",
            "    Found existing installation: folium 0.8.3\n",
            "    Uninstalling folium-0.8.3:\n",
            "      Successfully uninstalled folium-0.8.3\n",
            "\u001b[31mERROR: pip's dependency resolver does not currently take into account all the packages that are installed. This behaviour is the source of the following dependency conflicts.\n",
            "google-colab 1.0.0 requires requests~=2.23.0, but you have requests 2.27.1 which is incompatible.\n",
            "flask 1.1.4 requires click<8.0,>=5.1, but you have click 8.1.3 which is incompatible.\n",
            "flask 1.1.4 requires Jinja2<3.0,>=2.10.1, but you have jinja2 3.1.2 which is incompatible.\n",
            "datascience 0.10.6 requires folium==0.2.1, but you have folium 0.12.1.post1 which is incompatible.\n",
            "albumentations 0.1.12 requires imgaug<0.2.7,>=0.2.5, but you have imgaug 0.2.9 which is incompatible.\u001b[0m\n",
            "Successfully installed affine-2.3.1 click-8.1.3 click-plugins-1.1.1 cligj-0.7.2 folium-0.12.1.post1 idna-3.3 jinja2-3.1.2 markupsafe-2.1.1 orjson-3.6.8 rasterio-1.2.10 requests-2.27.1 shapely-1.8.2 snuggs-1.4.7 urllib3-1.26.9\n",
            "go version go1.18.1 linux/amd64\n"
          ]
        }
      ],
      "source": [
        "!rm -rf snapearthapis\n",
        "!git clone https://github.com/chicham/snapearthapis.git\n",
        "!pip install -r snapearthapis/requirements.txt\n",
        "!!add-apt-repository ppa:longsleep/golang-backports -y\n",
        "!apt-get update > /dev/null && apt-get -y install jq golang-go > /dev/null\n",
        "!go version\n",
        "!!go install github.com/fullstorydev/grpcurl/cmd/grpcurl@latest\n",
        "import os\n",
        "os.environ['PATH'] += \":/root/go/bin\""
      ]
    },
    {
      "cell_type": "markdown",
      "id": "a47877c8",
      "metadata": {
        "id": "a47877c8"
      },
      "source": [
        "# EarthSignature Tutorial\n",
        "\n",
        "## Introduction\n",
        "\n",
        "The goal of this notebook is to show how to use the EarthSignature API to download segmented Sentinel2 products. At the end of this tutorial, you will be able to query the API, understand how to filter the results when querying the API and understand what are the data returned by the API.\n",
        "\n",
        "\n",
        "## Visualize the products available"
      ]
    },
    {
      "cell_type": "code",
      "source": [
        "import orjson as json \n",
        "lines = !grpcurl -insecure  -max-msg-sz 1073741824 earthsignature.snapearth.eu:443 snapearth.api.v1.database.DatabaseProductService.ListProductIds | jq -c -M\n",
        "products = [json.loads(line) for line in lines]"
      ],
      "metadata": {
        "id": "Em3guQFI4_HO",
        "outputId": "0f43cfd7-2ab2-4e42-f733-9d7fc006b74a",
        "colab": {
          "base_uri": "https://localhost:8080/"
        }
      },
      "id": "Em3guQFI4_HO",
      "execution_count": 2,
      "outputs": [
        {
          "output_type": "stream",
          "name": "stdout",
          "text": [
            "Requirement already satisfied: orjson in /usr/local/lib/python3.7/dist-packages (3.6.8)\n"
          ]
        }
      ]
    },
    {
      "cell_type": "code",
      "execution_count": 3,
      "id": "1159315c",
      "metadata": {
        "lines_to_next_cell": 0,
        "id": "1159315c"
      },
      "outputs": [],
      "source": [
        "import base64\n",
        "\n",
        "import folium\n",
        "from shapely import wkt\n",
        "from shapely.geometry import mapping\n",
        "\n",
        "\n",
        "EUROPE_COORDINATES = wkt.loads(\n",
        "    \"POLYGON((-10.61 71.16, 44.85 71.16, 44.85 35.97, -10.61 35.97, -10.61 71.16))\",\n",
        ")\n",
        "MAP_CENTER = mapping(EUROPE_COORDINATES.centroid)"
      ]
    },
    {
      "cell_type": "code",
      "execution_count": 4,
      "id": "bdb9848f",
      "metadata": {
        "id": "bdb9848f",
        "outputId": "3a46f879-12f1-4d95-ffd5-7f6084684e21",
        "colab": {
          "base_uri": "https://localhost:8080/",
          "height": 1000
        }
      },
      "outputs": [
        {
          "output_type": "execute_result",
          "data": {
            "text/plain": [
              "<folium.folium.Map at 0x7fc1b572be90>"
            ],
            "text/html": [
              "<div style=\"width:100%;\"><div style=\"position:relative;width:100%;height:0;padding-bottom:60%;\"><span style=\"color:#565656\">Make this Notebook Trusted to load map: File -> Trust Notebook</span><iframe srcdoc=\"&lt;!DOCTYPE html&gt;\n",
              "&lt;head&gt;    \n",
              "    &lt;meta http-equiv=&quot;content-type&quot; content=&quot;text/html; charset=UTF-8&quot; /&gt;\n",
              "    \n",
              "        &lt;script&gt;\n",
              "            L_NO_TOUCH = false;\n",
              "            L_DISABLE_3D = false;\n",
              "        &lt;/script&gt;\n",
              "    \n",
              "    &lt;style&gt;html, body {width: 100%;height: 100%;margin: 0;padding: 0;}&lt;/style&gt;\n",
              "    &lt;style&gt;#map {position:absolute;top:0;bottom:0;right:0;left:0;}&lt;/style&gt;\n",
              "    &lt;script src=&quot;https://cdn.jsdelivr.net/npm/leaflet@1.6.0/dist/leaflet.js&quot;&gt;&lt;/script&gt;\n",
              "    &lt;script src=&quot;https://code.jquery.com/jquery-1.12.4.min.js&quot;&gt;&lt;/script&gt;\n",
              "    &lt;script src=&quot;https://maxcdn.bootstrapcdn.com/bootstrap/3.2.0/js/bootstrap.min.js&quot;&gt;&lt;/script&gt;\n",
              "    &lt;script src=&quot;https://cdnjs.cloudflare.com/ajax/libs/Leaflet.awesome-markers/2.0.2/leaflet.awesome-markers.js&quot;&gt;&lt;/script&gt;\n",
              "    &lt;link rel=&quot;stylesheet&quot; href=&quot;https://cdn.jsdelivr.net/npm/leaflet@1.6.0/dist/leaflet.css&quot;/&gt;\n",
              "    &lt;link rel=&quot;stylesheet&quot; href=&quot;https://maxcdn.bootstrapcdn.com/bootstrap/3.2.0/css/bootstrap.min.css&quot;/&gt;\n",
              "    &lt;link rel=&quot;stylesheet&quot; href=&quot;https://maxcdn.bootstrapcdn.com/bootstrap/3.2.0/css/bootstrap-theme.min.css&quot;/&gt;\n",
              "    &lt;link rel=&quot;stylesheet&quot; href=&quot;https://maxcdn.bootstrapcdn.com/font-awesome/4.6.3/css/font-awesome.min.css&quot;/&gt;\n",
              "    &lt;link rel=&quot;stylesheet&quot; href=&quot;https://cdnjs.cloudflare.com/ajax/libs/Leaflet.awesome-markers/2.0.2/leaflet.awesome-markers.css&quot;/&gt;\n",
              "    &lt;link rel=&quot;stylesheet&quot; href=&quot;https://cdn.jsdelivr.net/gh/python-visualization/folium/folium/templates/leaflet.awesome.rotate.min.css&quot;/&gt;\n",
              "    \n",
              "            &lt;meta name=&quot;viewport&quot; content=&quot;width=device-width,\n",
              "                initial-scale=1.0, maximum-scale=1.0, user-scalable=no&quot; /&gt;\n",
              "            &lt;style&gt;\n",
              "                #map_2bb0dd906d473ea08096b68d7215fa39 {\n",
              "                    position: relative;\n",
              "                    width: 100.0%;\n",
              "                    height: 100.0%;\n",
              "                    left: 0.0%;\n",
              "                    top: 0.0%;\n",
              "                }\n",
              "            &lt;/style&gt;\n",
              "        \n",
              "&lt;/head&gt;\n",
              "&lt;body&gt;    \n",
              "    \n",
              "            &lt;div class=&quot;folium-map&quot; id=&quot;map_2bb0dd906d473ea08096b68d7215fa39&quot; &gt;&lt;/div&gt;\n",
              "        \n",
              "&lt;/body&gt;\n",
              "&lt;script&gt;    \n",
              "    \n",
              "            var map_2bb0dd906d473ea08096b68d7215fa39 = L.map(\n",
              "                &quot;map_2bb0dd906d473ea08096b68d7215fa39&quot;,\n",
              "                {\n",
              "                    center: [53.565000000000005, 17.119999999999997],\n",
              "                    crs: L.CRS.EPSG3857,\n",
              "                    zoom: 4,\n",
              "                    zoomControl: true,\n",
              "                    preferCanvas: false,\n",
              "                }\n",
              "            );\n",
              "\n",
              "            \n",
              "\n",
              "        \n",
              "    \n",
              "            var tile_layer_01dba07b1389e89f121ddcbd81d69bb2 = L.tileLayer(\n",
              "                &quot;https://{s}.tile.openstreetmap.org/{z}/{x}/{y}.png&quot;,\n",
              "                {&quot;attribution&quot;: &quot;Data by \\u0026copy; \\u003ca href=\\&quot;http://openstreetmap.org\\&quot;\\u003eOpenStreetMap\\u003c/a\\u003e, under \\u003ca href=\\&quot;http://www.openstreetmap.org/copyright\\&quot;\\u003eODbL\\u003c/a\\u003e.&quot;, &quot;detectRetina&quot;: false, &quot;maxNativeZoom&quot;: 18, &quot;maxZoom&quot;: 18, &quot;minZoom&quot;: 0, &quot;noWrap&quot;: false, &quot;opacity&quot;: 1, &quot;subdomains&quot;: &quot;abc&quot;, &quot;tms&quot;: false}\n",
              "            ).addTo(map_2bb0dd906d473ea08096b68d7215fa39);\n",
              "        \n",
              "    \n",
              "\n",
              "        function geo_json_480b17c8b947997996819be70f9d2ab1_onEachFeature(feature, layer) {\n",
              "            layer.on({\n",
              "            });\n",
              "        };\n",
              "        var geo_json_480b17c8b947997996819be70f9d2ab1 = L.geoJson(null, {\n",
              "                onEachFeature: geo_json_480b17c8b947997996819be70f9d2ab1_onEachFeature,\n",
              "            \n",
              "        });\n",
              "\n",
              "        function geo_json_480b17c8b947997996819be70f9d2ab1_add (data) {\n",
              "            geo_json_480b17c8b947997996819be70f9d2ab1\n",
              "                .addData(data)\n",
              "                .addTo(map_2bb0dd906d473ea08096b68d7215fa39);\n",
              "        }\n",
              "            geo_json_480b17c8b947997996819be70f9d2ab1_add({&quot;coordinates&quot;: [[[[16.282936, 45.624057], [16.315369, 45.701449], [16.31618, 45.703382], [16.375932, 45.845858], [16.403811, 45.912047], [16.437458, 45.992114], [16.459002, 46.043349], [16.292532, 46.046265], [16.282936, 45.624057]]]], &quot;type&quot;: &quot;MultiPolygon&quot;});\n",
              "\n",
              "        \n",
              "    \n",
              "            var marker_13641998c5eb8fc3e9c743381e366453 = L.marker(\n",
              "                [45.904624018413635, 16.344806883875705],\n",
              "                {}\n",
              "            ).addTo(map_2bb0dd906d473ea08096b68d7215fa39);\n",
              "        \n",
              "    \n",
              "            marker_13641998c5eb8fc3e9c743381e366453.bindTooltip(\n",
              "                `&lt;div&gt;\n",
              "                     product[&quot;productId&quot;]\n",
              "                 &lt;/div&gt;`,\n",
              "                {&quot;sticky&quot;: true}\n",
              "            );\n",
              "        \n",
              "&lt;/script&gt;\" style=\"position:absolute;width:100%;height:100%;left:0;top:0;border:none !important;\" allowfullscreen webkitallowfullscreen mozallowfullscreen></iframe></div></div>"
            ]
          },
          "metadata": {},
          "execution_count": 4
        }
      ],
      "source": [
        "\n",
        "map_ = folium.Map(\n",
        "    location=MAP_CENTER[\"coordinates\"][::-1],\n",
        "    zoom_start=4,\n",
        "    crs=\"EPSG3857\",\n",
        ")\n",
        "\n",
        "\n",
        "for product in products:\n",
        "    geom = wkt.loads(product['wkt'])\n",
        "    folium.GeoJson(data=geom).add_to(map_)\n",
        "    centroid = mapping(geom.centroid)\n",
        "    folium.Marker(\n",
        "            location=centroid[\"coordinates\"][::-1],\n",
        "            tooltip=f'product[\"productId\"]',\n",
        "        ).add_to(map_)    \n",
        "\n",
        "map_\n"
      ]
    },
    {
      "cell_type": "markdown",
      "id": "d84ff524",
      "metadata": {
        "id": "d84ff524"
      },
      "source": [
        "## Querying the API\n"
      ]
    },
    {
      "cell_type": "code",
      "source": [
        "# We delete old results first\n",
        "!rm -rf api_results\n",
        "!mkdir api_results\n",
        "!grpcurl -max-msg-sz 1073741824 -d '{\"n_results\": 5, \"start_date\": \"2021-01-01T00:00:00Z\", \"end_date\": \"2022-05-01T00:00:00Z\"}' -insecure earthsignature.snapearth.eu:443 snapearth.api.v1.database.DatabaseProductService.ListSegmentation | jq -r -c -M '[.productId, .segmentation, .cloudMask] | @tsv' | ./bin/post_process.sh"
      ],
      "metadata": {
        "id": "Uvd0Qz8eJrGj"
      },
      "id": "Uvd0Qz8eJrGj",
      "execution_count": 14,
      "outputs": []
    },
    {
      "cell_type": "code",
      "source": [
        ""
      ],
      "metadata": {
        "id": "BppQV5CeL5_Y"
      },
      "id": "BppQV5CeL5_Y",
      "execution_count": null,
      "outputs": []
    }
  ],
  "metadata": {
    "jupytext": {
      "cell_metadata_filter": "-all",
      "formats": "ipynb,py:percent"
    },
    "kernelspec": {
      "display_name": "Python 3 (ipykernel)",
      "language": "python",
      "name": "python3"
    },
    "language_info": {
      "codemirror_mode": {
        "name": "ipython",
        "version": 3
      },
      "file_extension": ".py",
      "mimetype": "text/x-python",
      "name": "python",
      "nbconvert_exporter": "python",
      "pygments_lexer": "ipython3",
      "version": "3.8.13"
    },
    "colab": {
      "name": "Tutorial EarthSignature",
      "provenance": [],
      "collapsed_sections": [
        "vkyj_-xt071x"
      ]
    }
  },
  "nbformat": 4,
  "nbformat_minor": 5
}